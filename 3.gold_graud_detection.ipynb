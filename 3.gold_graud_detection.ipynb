{
 "cells": [
  {
   "cell_type": "code",
   "execution_count": 0,
   "metadata": {
    "application/vnd.databricks.v1+cell": {
     "cellMetadata": {},
     "inputWidgets": {},
     "nuid": "5212522b-654b-4572-81e9-5cc962b0c124",
     "showTitle": false,
     "tableResultSettingsMap": {},
     "title": ""
    }
   },
   "outputs": [],
   "source": [
    "import dlt\n",
    "from pyspark.sql.functions import explode, split, col, datediff\n",
    "\n",
    "@dlt.table\n",
    "def silver_@dlt.table(\n",
    "    name=\"gold_fraud_detection\",\n",
    "    comment=\"Filtered and joined data for fraud detection\"\n",
    ")\n",
    "def gold_fraud_detection():\n",
    "    # Load the tables\n",
    "    silver_claim = spark.read.table(\"capstone_hospital.default.silver_claim\")\n",
    "    silver_diagnosis = spark.read.table(\"capstone_hospital.default.silver_diagnosis\")\n",
    "    silver_members = spark.read.table(\"capstone_hospital.default.silver_members\")\n",
    "\n",
    "    # Explode ICD10Codes into multiple rows\n",
    "    exploded_claims = silver_claim.withColumn(\"ICD10Code\", explode(split(col(\"ICD10Codes\"), \",\")))\n",
    "\n",
    "    # Filter rows where ClaimDate is more than 24 hours before ServiceDate\n",
    "    filtered_claims = exploded_claims.filter(datediff(col(\"ClaimDate\"), col(\"ServiceDate\")) > 1)\n",
    "\n",
    "    # Join the tables\n",
    "    result = filtered_claims.join(silver_members, \"MemberID\") \\\n",
    "                            .join(silver_diagnosis, filtered_claims[\"ICD10Code\"] == silver_diagnosis[\"code\"])\n",
    "\n",
    "    return resultclaim():\n",
    "    return spark.read.table(\"capstone_hospital.default.silver_claim\")\n",
    "\n",
    "@dlt.table\n",
    "def silver_diagnosis():\n",
    "    return spark.read.table(\"capstone_hospital.default.silver_diagnosis\")\n",
    "\n",
    "@dlt.table\n",
    "def silver_members():\n",
    "    return spark.read.table(\"capstone_hospital.default.silver_members\")\n",
    "\n",
    "@dlt.table(\n",
    "    name=\"gold_fraud_detection\",\n",
    "    comment=\"Filtered and joined data for fraud detection\"\n",
    ")\n",
    "def gold_fraud_detection():\n",
    "    # Explode ICD10Codes into multiple rows\n",
    "    exploded_claims = silver_claim().withColumn(\"ICD10Code\", explode(split(col(\"ICD10Codes\"), \",\")))\n",
    "\n",
    "    # Filter rows where ClaimDate is more than 24 hours before ServiceDate\n",
    "    filtered_claims = exploded_claims.filter(datediff(col(\"ClaimDate\"), col(\"ServiceDate\")) > 1)\n",
    "\n",
    "    # Join the tables\n",
    "    result = filtered_claims.join(silver_members(), \"MemberID\") \\\n",
    "                            .join(silver_diagnosis(), filtered_claims[\"ICD10Code\"] == silver_diagnosis()[\"code\"])\n",
    "\n",
    "    return result"
   ]
  }
 ],
 "metadata": {
  "application/vnd.databricks.v1+notebook": {
   "computePreferences": null,
   "dashboards": [],
   "environmentMetadata": {
    "base_environment": "",
    "environment_version": "3"
   },
   "inputWidgetPreferences": null,
   "language": "python",
   "notebookMetadata": {
    "pythonIndentUnit": 4
   },
   "notebookName": "3.gold_graud_detection",
   "widgets": {}
  },
  "language_info": {
   "name": "python"
  }
 },
 "nbformat": 4,
 "nbformat_minor": 0
}
